{
 "cells": [
  {
   "cell_type": "markdown",
   "id": "f2ad0923",
   "metadata": {},
   "source": [
    "## Programming Exercise 1: Linear Regression"
   ]
  },
  {
   "cell_type": "code",
   "execution_count": 2,
   "id": "57bdb4af",
   "metadata": {},
   "outputs": [],
   "source": [
    "import pandas as pd\n",
    "import numpy as np\n",
    "import matplotlib.pyplot as plt"
   ]
  },
  {
   "cell_type": "markdown",
   "id": "a1ee341a",
   "metadata": {},
   "source": [
    "##### 1. Plotting the Data\n",
    "#### Use a scatter plot to visualize the data"
   ]
  },
  {
   "cell_type": "code",
   "execution_count": 3,
   "id": "6d0e3b47",
   "metadata": {},
   "outputs": [
    {
     "data": {
      "text/html": [
       "<div>\n",
       "<style scoped>\n",
       "    .dataframe tbody tr th:only-of-type {\n",
       "        vertical-align: middle;\n",
       "    }\n",
       "\n",
       "    .dataframe tbody tr th {\n",
       "        vertical-align: top;\n",
       "    }\n",
       "\n",
       "    .dataframe thead th {\n",
       "        text-align: right;\n",
       "    }\n",
       "</style>\n",
       "<table border=\"1\" class=\"dataframe\">\n",
       "  <thead>\n",
       "    <tr style=\"text-align: right;\">\n",
       "      <th></th>\n",
       "      <th>population</th>\n",
       "      <th>profit</th>\n",
       "    </tr>\n",
       "  </thead>\n",
       "  <tbody>\n",
       "    <tr>\n",
       "      <th>0</th>\n",
       "      <td>6.1101</td>\n",
       "      <td>17.5920</td>\n",
       "    </tr>\n",
       "    <tr>\n",
       "      <th>1</th>\n",
       "      <td>5.5277</td>\n",
       "      <td>9.1302</td>\n",
       "    </tr>\n",
       "    <tr>\n",
       "      <th>2</th>\n",
       "      <td>8.5186</td>\n",
       "      <td>13.6620</td>\n",
       "    </tr>\n",
       "    <tr>\n",
       "      <th>3</th>\n",
       "      <td>7.0032</td>\n",
       "      <td>11.8540</td>\n",
       "    </tr>\n",
       "    <tr>\n",
       "      <th>4</th>\n",
       "      <td>5.8598</td>\n",
       "      <td>6.8233</td>\n",
       "    </tr>\n",
       "  </tbody>\n",
       "</table>\n",
       "</div>"
      ],
      "text/plain": [
       "   population   profit\n",
       "0      6.1101  17.5920\n",
       "1      5.5277   9.1302\n",
       "2      8.5186  13.6620\n",
       "3      7.0032  11.8540\n",
       "4      5.8598   6.8233"
      ]
     },
     "execution_count": 3,
     "metadata": {},
     "output_type": "execute_result"
    }
   ],
   "source": [
    "df = pd.read_csv('ex1data1.txt', names = ['population', 'profit'])\n",
    "df.head()"
   ]
  },
  {
   "cell_type": "code",
   "execution_count": 4,
   "id": "3fbe5464",
   "metadata": {
    "scrolled": false
   },
   "outputs": [
    {
     "data": {
      "text/plain": [
       "<matplotlib.collections.PathCollection at 0x1888bad1670>"
      ]
     },
     "execution_count": 4,
     "metadata": {},
     "output_type": "execute_result"
    },
    {
     "data": {
      "image/png": "[encoded data removed]",
      "text/plain": [
       "<Figure size 864x576 with 1 Axes>"
      ]
     },
     "metadata": {
      "needs_background": "light"
     },
     "output_type": "display_data"
    }
   ],
   "source": [
    "plt.figure(figsize=(12, 8))\n",
    "plt.xlabel('Population of City in 10,000s')\n",
    "plt.ylabel('Profit in $10,000s')\n",
    "plt.grid()\n",
    "plt.scatter(df.population, df.profit)\n"
   ]
  },
  {
   "cell_type": "markdown",
   "id": "391b6f62",
   "metadata": {},
   "source": [
    "##### 2. Compute Cost function cost J(θ)"
   ]
  },
  {
   "cell_type": "markdown",
   "id": "842d5f63",
   "metadata": {},
   "source": [
    "$$J\\left( \\theta  \\right)=\\frac{1}{2m}\\sum\\limits_{i=1}^{m}{{{\\left( {{h}_{\\theta }}\\left( {{x}^{(i)}} \\right)-{{y}^{(i)}} \\right)}^{2}}}$$\n",
    "其中：\\\\[{{h}_{\\theta }}\\left( x \\right)={{\\theta }^{T}}X={{\\theta }_{0}}{{x}_{0}}+{{\\theta }_{1}}{{x}_{1}}+{{\\theta }_{2}}{{x}_{2}}+...+{{\\theta }_{n}}{{x}_{n}}\\\\] "
   ]
  },
  {
   "cell_type": "code",
   "execution_count": 5,
   "id": "e74ed485",
   "metadata": {},
   "outputs": [],
   "source": [
    "# insert a column\n",
    "# in column one, named 'one', value '1'\n",
    "df.insert(0, 'one', 1)"
   ]
  },
  {
   "cell_type": "code",
   "execution_count": 6,
   "id": "99067936",
   "metadata": {},
   "outputs": [],
   "source": [
    "# different between array and matrix \n",
    "# vector and matrix and array?  \n",
    "# inner product and cross product\n",
    "X = np.array(df.iloc[:, 0:2])\n",
    "y = np.array(df.iloc[:,-1])\n",
    "theta = np.zeros(X.shape[1])"
   ]
  },
  {
   "cell_type": "code",
   "execution_count": 7,
   "id": "60248c92",
   "metadata": {},
   "outputs": [
    {
     "data": {
      "text/plain": [
       "array([0., 0.])"
      ]
     },
     "execution_count": 7,
     "metadata": {},
     "output_type": "execute_result"
    }
   ],
   "source": [
    "theta"
   ]
  },
  {
   "cell_type": "code",
   "execution_count": 8,
   "id": "cc943b67",
   "metadata": {},
   "outputs": [
    {
     "data": {
      "text/plain": [
       "((97, 2), (2,), (97,))"
      ]
     },
     "execution_count": 8,
     "metadata": {},
     "output_type": "execute_result"
    }
   ],
   "source": [
    "X.shape, theta.shape, y.shape"
   ]
  },
  {
   "cell_type": "code",
   "execution_count": 9,
   "id": "fea2503b",
   "metadata": {},
   "outputs": [],
   "source": [
    "# need to transpose as it's vector multipulation\n",
    "\n",
    "def costFunc(X, y, theta):\n",
    "    error = X @ theta.T - y\n",
    "    cost = (error.T @ error)/(2*len(X))\n",
    "    return cost"
   ]
  },
  {
   "cell_type": "code",
   "execution_count": 10,
   "id": "a1113a03",
   "metadata": {},
   "outputs": [
    {
     "data": {
      "text/plain": [
       "32.072733877455676"
      ]
     },
     "execution_count": 10,
     "metadata": {},
     "output_type": "execute_result"
    }
   ],
   "source": [
    "costFunc(X, y, theta)"
   ]
  },
  {
   "cell_type": "code",
   "execution_count": 11,
   "id": "9c888ae2",
   "metadata": {},
   "outputs": [],
   "source": [
    "# np.dot，dot and @ are the same thing that is inner product. \n",
    "# '*' 就是普通相乘"
   ]
  },
  {
   "cell_type": "code",
   "execution_count": 12,
   "id": "b0b61cb4",
   "metadata": {
    "scrolled": true
   },
   "outputs": [],
   "source": [
    "# b = np.array([2, 2, 2])\n",
    "# c = np.array([2, 2, 2])\n",
    "# b * c # array([4, 4, 4])\n",
    "# b@c # 12\n",
    "# np.dot(b, c) #12"
   ]
  },
  {
   "cell_type": "markdown",
   "id": "45190bd6",
   "metadata": {},
   "source": [
    "##### 3. Batch gradient decent（批量梯度下降）\n",
    "$${{\\theta }_{j}}:={{\\theta }_{j}}-\\alpha \\frac{\\partial }{\\partial {{\\theta }_{j}}}J\\left( \\theta  \\right)$$"
   ]
  },
  {
   "cell_type": "code",
   "execution_count": 13,
   "id": "2cdd47d8",
   "metadata": {},
   "outputs": [],
   "source": [
    "# 这是那个梯度的二阶导数\n",
    "# 算点斜率\n",
    "# calculating dot intercept\n",
    "def gradientdect(X, y, theta):\n",
    "    \n",
    "    inner = X.T @ (X @ theta.T - y)/(len(X))\n",
    "    \n",
    "    return inner\n",
    "    "
   ]
  },
  {
   "cell_type": "code",
   "execution_count": 100,
   "id": "4eb3e785",
   "metadata": {},
   "outputs": [],
   "source": [
    "# \n",
    "def bacthGradientDect(X, y, theta, epoch, alpha = 0.01):\n",
    "    \n",
    "    cost_data = [costFunc(X, y, theta)]\n",
    "    _theta = theta.copy()\n",
    "    \n",
    "    for _ in range (epoch):\n",
    "        \n",
    "        # 这的theta替代与否都行，不替代，上面的theta数值都变了了，和比较模糊。\n",
    "        # 但是说明用的是同一个theta\n",
    "        # epoch有多少次就loop多少次\n",
    "        # cost_data就会存起来多少次\n",
    "        \n",
    "        _theta = _theta - alpha * gradientdect(X, y, _theta)\n",
    "        cost_data.append(costFunc(X, y, _theta))\n",
    "    \n",
    "    return _theta, cost_data"
   ]
  },
  {
   "cell_type": "code",
   "execution_count": 101,
   "id": "43871d49",
   "metadata": {},
   "outputs": [],
   "source": [
    "epoch = 500\n",
    "final_theta, cost_data = bacthGradientDect(X, y, theta, epoch, alpha = 0.01)"
   ]
  },
  {
   "cell_type": "code",
   "execution_count": 102,
   "id": "c3cddcb3",
   "metadata": {},
   "outputs": [
    {
     "data": {
      "text/plain": [
       "array([-2.28286727,  1.03099898])"
      ]
     },
     "execution_count": 102,
     "metadata": {},
     "output_type": "execute_result"
    }
   ],
   "source": [
    "final_theta"
   ]
  },
  {
   "cell_type": "code",
   "execution_count": 18,
   "id": "24c6bc9e",
   "metadata": {},
   "outputs": [
    {
     "data": {
      "text/plain": [
       "4.713809531116866"
      ]
     },
     "execution_count": 18,
     "metadata": {},
     "output_type": "execute_result"
    }
   ],
   "source": [
    "costFunc(X, y, final_theta)"
   ]
  },
  {
   "cell_type": "code",
   "execution_count": 19,
   "id": "c6afbcf9",
   "metadata": {},
   "outputs": [
    {
     "data": {
      "image/png": "[encoded data removed]",
      "text/plain": [
       "<Figure size 864x576 with 1 Axes>"
      ]
     },
     "metadata": {
      "needs_background": "light"
     },
     "output_type": "display_data"
    }
   ],
   "source": [
    "fig, ax = plt.subplots(figsize=(12,8))\n",
    "ax.plot(np.arange(epoch+1), cost_data, 'r')\n",
    "ax.set_xlabel('Iterations')\n",
    "ax.set_ylabel('Cost')\n",
    "ax.set_title('Error vs. Training Epoch')\n",
    "plt.show()"
   ]
  },
  {
   "cell_type": "code",
   "execution_count": 20,
   "id": "7674e11a",
   "metadata": {},
   "outputs": [
    {
     "data": {
      "image/png": "[encoded data removed]",
      "text/plain": [
       "<Figure size 864x576 with 1 Axes>"
      ]
     },
     "metadata": {
      "needs_background": "light"
     },
     "output_type": "display_data"
    }
   ],
   "source": [
    "# f 是 直线方程\n",
    "# f is linear function\n",
    "x = np.linspace(df.population.min(), df.population.max(), 100)\n",
    "f = final_theta[0] + (final_theta[1] * x)\n",
    "\n",
    "fig, ax = plt.subplots(figsize=(12,8))\n",
    "ax.plot(x, f, 'r', label='Prediction')\n",
    "ax.scatter(df.population, df.profit, label='Traning Data')\n",
    "ax.legend(loc=2)\n",
    "ax.set_xlabel('Population')\n",
    "ax.set_ylabel('Profit')\n",
    "ax.set_title('Predicted Profit vs. Population Size')\n",
    "plt.show()"
   ]
  },
  {
   "cell_type": "markdown",
   "id": "3214880b",
   "metadata": {},
   "source": [
    "#### 4. Feature Scaling/Normalization \n",
    "##### - To enlarge some variables have small values, and scale some variables have large values, like lot size"
   ]
  },
  {
   "cell_type": "code",
   "execution_count": 22,
   "id": "9254abde",
   "metadata": {},
   "outputs": [
    {
     "data": {
      "text/html": [
       "<div>\n",
       "<style scoped>\n",
       "    .dataframe tbody tr th:only-of-type {\n",
       "        vertical-align: middle;\n",
       "    }\n",
       "\n",
       "    .dataframe tbody tr th {\n",
       "        vertical-align: top;\n",
       "    }\n",
       "\n",
       "    .dataframe thead th {\n",
       "        text-align: right;\n",
       "    }\n",
       "</style>\n",
       "<table border=\"1\" class=\"dataframe\">\n",
       "  <thead>\n",
       "    <tr style=\"text-align: right;\">\n",
       "      <th></th>\n",
       "      <th>Size</th>\n",
       "      <th>Bedrooms</th>\n",
       "      <th>Price</th>\n",
       "    </tr>\n",
       "  </thead>\n",
       "  <tbody>\n",
       "    <tr>\n",
       "      <th>0</th>\n",
       "      <td>2104</td>\n",
       "      <td>3</td>\n",
       "      <td>399900</td>\n",
       "    </tr>\n",
       "    <tr>\n",
       "      <th>1</th>\n",
       "      <td>1600</td>\n",
       "      <td>3</td>\n",
       "      <td>329900</td>\n",
       "    </tr>\n",
       "    <tr>\n",
       "      <th>2</th>\n",
       "      <td>2400</td>\n",
       "      <td>3</td>\n",
       "      <td>369000</td>\n",
       "    </tr>\n",
       "    <tr>\n",
       "      <th>3</th>\n",
       "      <td>1416</td>\n",
       "      <td>2</td>\n",
       "      <td>232000</td>\n",
       "    </tr>\n",
       "    <tr>\n",
       "      <th>4</th>\n",
       "      <td>3000</td>\n",
       "      <td>4</td>\n",
       "      <td>539900</td>\n",
       "    </tr>\n",
       "  </tbody>\n",
       "</table>\n",
       "</div>"
      ],
      "text/plain": [
       "   Size  Bedrooms   Price\n",
       "0  2104         3  399900\n",
       "1  1600         3  329900\n",
       "2  2400         3  369000\n",
       "3  1416         2  232000\n",
       "4  3000         4  539900"
      ]
     },
     "execution_count": 22,
     "metadata": {},
     "output_type": "execute_result"
    }
   ],
   "source": [
    "df1 = pd.read_csv('ex1data2.txt', names = ['Size', 'Bedrooms', 'Price'])\n",
    "df1.head()"
   ]
  },
  {
   "cell_type": "code",
   "execution_count": 24,
   "id": "831334ae",
   "metadata": {},
   "outputs": [
    {
     "data": {
      "text/html": [
       "<div>\n",
       "<style scoped>\n",
       "    .dataframe tbody tr th:only-of-type {\n",
       "        vertical-align: middle;\n",
       "    }\n",
       "\n",
       "    .dataframe tbody tr th {\n",
       "        vertical-align: top;\n",
       "    }\n",
       "\n",
       "    .dataframe thead th {\n",
       "        text-align: right;\n",
       "    }\n",
       "</style>\n",
       "<table border=\"1\" class=\"dataframe\">\n",
       "  <thead>\n",
       "    <tr style=\"text-align: right;\">\n",
       "      <th></th>\n",
       "      <th>Size</th>\n",
       "      <th>Bedrooms</th>\n",
       "      <th>Price</th>\n",
       "    </tr>\n",
       "  </thead>\n",
       "  <tbody>\n",
       "    <tr>\n",
       "      <th>0</th>\n",
       "      <td>0.130010</td>\n",
       "      <td>-0.223675</td>\n",
       "      <td>0.475747</td>\n",
       "    </tr>\n",
       "    <tr>\n",
       "      <th>1</th>\n",
       "      <td>-0.504190</td>\n",
       "      <td>-0.223675</td>\n",
       "      <td>-0.084074</td>\n",
       "    </tr>\n",
       "    <tr>\n",
       "      <th>2</th>\n",
       "      <td>0.502476</td>\n",
       "      <td>-0.223675</td>\n",
       "      <td>0.228626</td>\n",
       "    </tr>\n",
       "    <tr>\n",
       "      <th>3</th>\n",
       "      <td>-0.735723</td>\n",
       "      <td>-1.537767</td>\n",
       "      <td>-0.867025</td>\n",
       "    </tr>\n",
       "    <tr>\n",
       "      <th>4</th>\n",
       "      <td>1.257476</td>\n",
       "      <td>1.090417</td>\n",
       "      <td>1.595389</td>\n",
       "    </tr>\n",
       "  </tbody>\n",
       "</table>\n",
       "</div>"
      ],
      "text/plain": [
       "       Size  Bedrooms     Price\n",
       "0  0.130010 -0.223675  0.475747\n",
       "1 -0.504190 -0.223675 -0.084074\n",
       "2  0.502476 -0.223675  0.228626\n",
       "3 -0.735723 -1.537767 -0.867025\n",
       "4  1.257476  1.090417  1.595389"
      ]
     },
     "execution_count": 24,
     "metadata": {},
     "output_type": "execute_result"
    }
   ],
   "source": [
    "df1 = (df1 - df1.mean())/df1.std()\n",
    "df1.head()"
   ]
  },
  {
   "cell_type": "markdown",
   "id": "31c59694",
   "metadata": {},
   "source": [
    "#### 5. Linear regression with multiple variables "
   ]
  },
  {
   "cell_type": "code",
   "execution_count": 25,
   "id": "7fbecf36",
   "metadata": {},
   "outputs": [],
   "source": [
    "df1.insert(0, 'one', 1)"
   ]
  },
  {
   "cell_type": "code",
   "execution_count": 43,
   "id": "2205a149",
   "metadata": {},
   "outputs": [],
   "source": [
    "X1 = np.array(df1.iloc[:,:-1])\n",
    "y1 = np.array(df1.iloc[:, -1])\n",
    "theta1 = np.array([0,0,0])"
   ]
  },
  {
   "cell_type": "code",
   "execution_count": 44,
   "id": "ed3b7a45",
   "metadata": {},
   "outputs": [
    {
     "data": {
      "text/plain": [
       "((47, 3), (47,), (3,))"
      ]
     },
     "execution_count": 44,
     "metadata": {},
     "output_type": "execute_result"
    }
   ],
   "source": [
    "X1.shape, y1.shape, theta1.shape"
   ]
  },
  {
   "cell_type": "code",
   "execution_count": 45,
   "id": "3245ab33",
   "metadata": {},
   "outputs": [],
   "source": [
    "# cost function 是一样的，都是linear，所以不用改了，照用\n",
    "# same as cost function as before, use it \n",
    "def costfuncM(X1, y1, theta1):\n",
    "    \n",
    "    error1 = X1 @ theta1.T - y1\n",
    "    cost1 = (error1.T @ error1)/(2*(len(X1)))\n",
    "    \n",
    "    return cost1\n"
   ]
  },
  {
   "cell_type": "code",
   "execution_count": 46,
   "id": "5da26abe",
   "metadata": {},
   "outputs": [
    {
     "data": {
      "text/plain": [
       "0.4893617021276598"
      ]
     },
     "execution_count": 46,
     "metadata": {},
     "output_type": "execute_result"
    }
   ],
   "source": [
    "costfuncM(X1, y1, theta1)"
   ]
  },
  {
   "cell_type": "code",
   "execution_count": 47,
   "id": "0f5940e9",
   "metadata": {},
   "outputs": [],
   "source": [
    "epoch = 500\n",
    "final_theta1, cost_data1 = bacthGradientDect(X1, y1, theta1, epoch, alpha = 0.01)"
   ]
  },
  {
   "cell_type": "code",
   "execution_count": 48,
   "id": "042d1020",
   "metadata": {},
   "outputs": [
    {
     "data": {
      "text/plain": [
       "array([-5.53694206e-17,  8.30383883e-01,  8.23982853e-04])"
      ]
     },
     "execution_count": 48,
     "metadata": {},
     "output_type": "execute_result"
    }
   ],
   "source": [
    "final_theta1"
   ]
  },
  {
   "cell_type": "code",
   "execution_count": 50,
   "id": "202b2de1",
   "metadata": {
    "scrolled": false
   },
   "outputs": [
    {
     "data": {
      "image/png": "[encoded data removed]",
      "text/plain": [
       "<Figure size 864x576 with 1 Axes>"
      ]
     },
     "metadata": {
      "needs_background": "light"
     },
     "output_type": "display_data"
    }
   ],
   "source": [
    "fig, ax = plt.subplots(figsize=(12,8))\n",
    "ax.plot(np.arange(epoch+1), cost_data1, 'r')\n",
    "ax.set_xlabel('Iterations')\n",
    "ax.set_ylabel('Cost')\n",
    "ax.set_title('Error vs. Training Epoch')\n",
    "plt.show()"
   ]
  },
  {
   "cell_type": "markdown",
   "id": "d09c6431",
   "metadata": {},
   "source": [
    "#### 6. Normal Equations"
   ]
  },
  {
   "cell_type": "markdown",
   "id": "c9ea5ba6",
   "metadata": {},
   "source": [
    "正规方程是通过求解下面的方程来找出使得代价函数最小的参数的：$\\frac{\\partial }{\\partial {{\\theta }_{j}}}J\\left( {{\\theta }_{j}} \\right)=0$ 。\n",
    " 假设我们的训练集特征矩阵为 X（包含了${{x}_{0}}=1$）并且我们的训练集结果为向量 y，则利用正规方程解出向量 $\\theta ={{\\left( {{X}^{T}}X \\right)}^{-1}}{{X}^{T}}y$ 。\n",
    "上标T代表矩阵转置，上标-1 代表矩阵的逆。设矩阵$A={{X}^{T}}X$，则：${{\\left( {{X}^{T}}X \\right)}^{-1}}={{A}^{-1}}$\n",
    "\n",
    "梯度下降与正规方程的比较：\n",
    "\n",
    "梯度下降：需要选择学习率α，需要多次迭代，当特征数量n大时也能较好适用，适用于各种类型的模型\t\n",
    "\n",
    "正规方程：不需要选择学习率α，一次计算得出，需要计算${{\\left( {{X}^{T}}X \\right)}^{-1}}$，如果特征数量n较大则运算代价大，因为矩阵逆的计算时间复杂度为$O(n3)$，通常来说当$n$小于10000 时还是可以接受的，只适用于线性模型，不适合逻辑回归模型等其他模型"
   ]
  },
  {
   "cell_type": "code",
   "execution_count": 118,
   "id": "31b491dd",
   "metadata": {},
   "outputs": [],
   "source": [
    "# np.linalg.inv 这是 矩阵求逆的代码\n",
    "def NormalEq(X, y):\n",
    "    theta = np.linalg.inv(X.T @ X) @ (X.T @ y)\n",
    "    return theta\n"
   ]
  },
  {
   "cell_type": "code",
   "execution_count": 119,
   "id": "dcf832b8",
   "metadata": {},
   "outputs": [
    {
     "data": {
      "text/plain": [
       "array([-3.89578088,  1.19303364])"
      ]
     },
     "execution_count": 119,
     "metadata": {},
     "output_type": "execute_result"
    }
   ],
   "source": [
    "final_theta2 = NormalEq(X, y)\n",
    "final_theta2"
   ]
  },
  {
   "cell_type": "code",
   "execution_count": 120,
   "id": "44dd7b52",
   "metadata": {},
   "outputs": [
    {
     "data": {
      "image/png": "[encoded data removed]",
      "text/plain": [
       "<Figure size 864x576 with 1 Axes>"
      ]
     },
     "metadata": {
      "needs_background": "light"
     },
     "output_type": "display_data"
    }
   ],
   "source": [
    "# f 是 直线方程\n",
    "x = np.linspace(df.population.min(), df.population.max(), 2)\n",
    "f = final_theta2[0] + (final_theta2[1] * x)\n",
    "\n",
    "fig, ax = plt.subplots(figsize=(12,8))\n",
    "ax.plot(x, f, 'r', label='Prediction')\n",
    "ax.scatter(df.population, df.profit, label='Traning Data')\n",
    "ax.legend(loc=2)\n",
    "ax.set_xlabel('Population')\n",
    "ax.set_ylabel('Profit')\n",
    "ax.set_title('Predicted Profit vs. Population Size')\n",
    "plt.show()"
   ]
  },
  {
   "cell_type": "code",
   "execution_count": null,
   "id": "8d17a4e9",
   "metadata": {},
   "outputs": [],
   "source": []
  }
 ],
 "metadata": {
  "kernelspec": {
   "display_name": "Python 3 (ipykernel)",
   "language": "python",
   "name": "python3"
  },
  "language_info": {
   "codemirror_mode": {
    "name": "ipython",
    "version": 3
   },
   "file_extension": ".py",
   "mimetype": "text/x-python",
   "name": "python",
   "nbconvert_exporter": "python",
   "pygments_lexer": "ipython3",
   "version": "3.8.8"
  }
 },
 "nbformat": 4,
 "nbformat_minor": 5
}
